{
 "cells": [
  {
   "cell_type": "code",
   "execution_count": 4,
   "id": "c1c90ed1",
   "metadata": {
    "scrolled": true
   },
   "outputs": [],
   "source": [
    "import showast\n",
    "import ast"
   ]
  },
  {
   "cell_type": "code",
   "execution_count": 5,
   "id": "db62acd4",
   "metadata": {
    "scrolled": false
   },
   "outputs": [
    {
     "name": "stdout",
     "output_type": "stream",
     "text": [
      "Module(\n",
      "    body=[\n",
      "        AnnAssign(\n",
      "            target=Name(id='names', ctx=Store()),\n",
      "            annotation=Subscript(\n",
      "                value=Name(id='Tuple', ctx=Load()),\n",
      "                slice=Name(id='str', ctx=Load()),\n",
      "                ctx=Load()),\n",
      "            value=Tuple(\n",
      "                elts=[\n",
      "                    Constant(value='Banner'),\n",
      "                    Constant(value='Rodgers'),\n",
      "                    Constant(value='Stark'),\n",
      "                    Constant(value='Romanov')],\n",
      "                ctx=Load()),\n",
      "            simple=1)],\n",
      "    type_ignores=[])\n"
     ]
    }
   ],
   "source": [
    "line = 'names: Tuple[str] = (\"Banner\", \"Rodgers\", \"Stark\", \"Romanov\")'\n",
    "print(ast.dump(ast.parse(line), indent=4))"
   ]
  },
  {
   "cell_type": "code",
   "execution_count": 3,
   "id": "67e5cdcd",
   "metadata": {
    "scrolled": true
   },
   "outputs": [
    {
     "data": {
      "image/svg+xml": [
       "<svg xmlns=\"http://www.w3.org/2000/svg\" xmlns:xlink=\"http://www.w3.org/1999/xlink\" width=\"635pt\" height=\"260pt\" viewBox=\"0.00 0.00 635.00 260.00\">\n",
       "<g id=\"graph0\" class=\"graph\" transform=\"scale(1 1) rotate(0) translate(4 256)\">\n",
       "<title>%3</title>\n",
       "<polygon fill=\"white\" stroke=\"transparent\" points=\"-4,4 -4,-256 631,-256 631,4 -4,4\"/>\n",
       "<!-- 0 -->\n",
       "<g id=\"node1\" class=\"node\">\n",
       "<title>0</title>\n",
       "<text text-anchor=\"start\" x=\"191\" y=\"-231.3\" font-family=\"Courier,monospace\" font-weight=\"bold\" font-size=\"14.00\" fill=\"#004080\">Assign</text>\n",
       "</g>\n",
       "<!-- 1 -->\n",
       "<g id=\"node2\" class=\"node\">\n",
       "<title>1</title>\n",
       "<text text-anchor=\"start\" x=\"104\" y=\"-159.3\" font-family=\"Courier,monospace\" font-weight=\"bold\" font-size=\"14.00\" fill=\"#004080\">Name</text>\n",
       "</g>\n",
       "<!-- 0&#45;&#45;1 -->\n",
       "<g id=\"edge1\" class=\"edge\">\n",
       "<title>0--1</title>\n",
       "<path fill=\"none\" stroke=\"black\" d=\"M218,-215C218,-215 176.72,-192.87 148.02,-177.48\"/>\n",
       "</g>\n",
       "<!-- 4 -->\n",
       "<g id=\"node5\" class=\"node\">\n",
       "<title>4</title>\n",
       "<text text-anchor=\"start\" x=\"340\" y=\"-159.3\" font-family=\"Courier,monospace\" font-weight=\"bold\" font-size=\"14.00\" fill=\"#004080\">Tuple</text>\n",
       "</g>\n",
       "<!-- 0&#45;&#45;4 -->\n",
       "<g id=\"edge4\" class=\"edge\">\n",
       "<title>0--4</title>\n",
       "<path fill=\"none\" stroke=\"black\" d=\"M218,-215C218,-215 289.88,-188.86 331.72,-173.65\"/>\n",
       "</g>\n",
       "<!-- 2 -->\n",
       "<g id=\"node3\" class=\"node\">\n",
       "<title>2</title>\n",
       "<text text-anchor=\"middle\" x=\"37\" y=\"-86.3\" font-family=\"Courier,monospace\" font-size=\"14.00\" fill=\"#008040\">&quot;names&quot;</text>\n",
       "</g>\n",
       "<!-- 1&#45;&#45;2 -->\n",
       "<g id=\"edge2\" class=\"edge\">\n",
       "<title>1--2</title>\n",
       "<path fill=\"none\" stroke=\"black\" d=\"M113,-143C113,-143 84.05,-123.19 61.89,-108.03\"/>\n",
       "</g>\n",
       "<!-- 3 -->\n",
       "<g id=\"node4\" class=\"node\">\n",
       "<title>3</title>\n",
       "<text text-anchor=\"middle\" x=\"121\" y=\"-86.3\" font-family=\"Courier,monospace\" font-size=\"14.00\" fill=\"#008040\">Store</text>\n",
       "</g>\n",
       "<!-- 1&#45;&#45;3 -->\n",
       "<g id=\"edge3\" class=\"edge\">\n",
       "<title>1--3</title>\n",
       "<path fill=\"none\" stroke=\"black\" d=\"M113,-143C113,-143 116.05,-123.19 118.38,-108.03\"/>\n",
       "</g>\n",
       "<!-- 5 -->\n",
       "<g id=\"node6\" class=\"node\">\n",
       "<title>5</title>\n",
       "<text text-anchor=\"start\" x=\"176.5\" y=\"-87.3\" font-family=\"Courier,monospace\" font-weight=\"bold\" font-size=\"14.00\" fill=\"#004080\">Constant</text>\n",
       "</g>\n",
       "<!-- 4&#45;&#45;5 -->\n",
       "<g id=\"edge5\" class=\"edge\">\n",
       "<title>4--5</title>\n",
       "<path fill=\"none\" stroke=\"black\" d=\"M367,-143C367,-143 307.46,-123.83 260,-108 257.3,-107.1 254.53,-106.17 251.73,-105.23\"/>\n",
       "</g>\n",
       "<!-- 7 -->\n",
       "<g id=\"node8\" class=\"node\">\n",
       "<title>7</title>\n",
       "<text text-anchor=\"start\" x=\"277.5\" y=\"-87.3\" font-family=\"Courier,monospace\" font-weight=\"bold\" font-size=\"14.00\" fill=\"#004080\">Constant</text>\n",
       "</g>\n",
       "<!-- 4&#45;&#45;7 -->\n",
       "<g id=\"edge7\" class=\"edge\">\n",
       "<title>4--7</title>\n",
       "<path fill=\"none\" stroke=\"black\" d=\"M367,-143C367,-143 345.67,-123.19 329.34,-108.03\"/>\n",
       "</g>\n",
       "<!-- 9 -->\n",
       "<g id=\"node10\" class=\"node\">\n",
       "<title>9</title>\n",
       "<text text-anchor=\"start\" x=\"378.5\" y=\"-87.3\" font-family=\"Courier,monospace\" font-weight=\"bold\" font-size=\"14.00\" fill=\"#004080\">Constant</text>\n",
       "</g>\n",
       "<!-- 4&#45;&#45;9 -->\n",
       "<g id=\"edge9\" class=\"edge\">\n",
       "<title>4--9</title>\n",
       "<path fill=\"none\" stroke=\"black\" d=\"M367,-143C367,-143 384.14,-123.19 397.27,-108.03\"/>\n",
       "</g>\n",
       "<!-- 11 -->\n",
       "<g id=\"node12\" class=\"node\">\n",
       "<title>11</title>\n",
       "<text text-anchor=\"start\" x=\"479.5\" y=\"-87.3\" font-family=\"Courier,monospace\" font-weight=\"bold\" font-size=\"14.00\" fill=\"#004080\">Constant</text>\n",
       "</g>\n",
       "<!-- 4&#45;&#45;11 -->\n",
       "<g id=\"edge11\" class=\"edge\">\n",
       "<title>4--11</title>\n",
       "<path fill=\"none\" stroke=\"black\" d=\"M367,-143C367,-143 428.02,-121.27 471.16,-105.9\"/>\n",
       "</g>\n",
       "<!-- 13 -->\n",
       "<g id=\"node14\" class=\"node\">\n",
       "<title>13</title>\n",
       "<text text-anchor=\"middle\" x=\"600\" y=\"-86.3\" font-family=\"Courier,monospace\" font-size=\"14.00\" fill=\"#008040\">Load</text>\n",
       "</g>\n",
       "<!-- 4&#45;&#45;13 -->\n",
       "<g id=\"edge13\" class=\"edge\">\n",
       "<title>4--13</title>\n",
       "<path fill=\"none\" stroke=\"black\" d=\"M367,-143C367,-143 479.27,-135 564,-108 566.9,-107.08 569.86,-105.97 572.79,-104.77\"/>\n",
       "</g>\n",
       "<!-- 6 -->\n",
       "<g id=\"node7\" class=\"node\">\n",
       "<title>6</title>\n",
       "<text text-anchor=\"middle\" x=\"206\" y=\"-14.3\" font-family=\"Courier,monospace\" font-size=\"14.00\" fill=\"#008040\">&quot;Banner&quot;</text>\n",
       "</g>\n",
       "<!-- 5&#45;&#45;6 -->\n",
       "<g id=\"edge6\" class=\"edge\">\n",
       "<title>5--6</title>\n",
       "<path fill=\"none\" stroke=\"black\" d=\"M209.01,-71.7C208.39,-60.85 207.6,-46.92 206.98,-36.1\"/>\n",
       "</g>\n",
       "<!-- 8 -->\n",
       "<g id=\"node9\" class=\"node\">\n",
       "<title>8</title>\n",
       "<text text-anchor=\"middle\" x=\"311\" y=\"-14.3\" font-family=\"Courier,monospace\" font-size=\"14.00\" fill=\"#008040\">&quot;Rodgers&quot;</text>\n",
       "</g>\n",
       "<!-- 7&#45;&#45;8 -->\n",
       "<g id=\"edge8\" class=\"edge\">\n",
       "<title>7--8</title>\n",
       "<path fill=\"none\" stroke=\"black\" d=\"M311,-71.7C311,-60.85 311,-46.92 311,-36.1\"/>\n",
       "</g>\n",
       "<!-- 10 -->\n",
       "<g id=\"node11\" class=\"node\">\n",
       "<title>10</title>\n",
       "<text text-anchor=\"middle\" x=\"412\" y=\"-14.3\" font-family=\"Courier,monospace\" font-size=\"14.00\" fill=\"#008040\">&quot;Stark&quot;</text>\n",
       "</g>\n",
       "<!-- 9&#45;&#45;10 -->\n",
       "<g id=\"edge10\" class=\"edge\">\n",
       "<title>9--10</title>\n",
       "<path fill=\"none\" stroke=\"black\" d=\"M412,-71.7C412,-60.85 412,-46.92 412,-36.1\"/>\n",
       "</g>\n",
       "<!-- 12 -->\n",
       "<g id=\"node13\" class=\"node\">\n",
       "<title>12</title>\n",
       "<text text-anchor=\"middle\" x=\"513\" y=\"-14.3\" font-family=\"Courier,monospace\" font-size=\"14.00\" fill=\"#008040\">&quot;Romanov&quot;</text>\n",
       "</g>\n",
       "<!-- 11&#45;&#45;12 -->\n",
       "<g id=\"edge12\" class=\"edge\">\n",
       "<title>11--12</title>\n",
       "<path fill=\"none\" stroke=\"black\" d=\"M513,-71.7C513,-60.85 513,-46.92 513,-36.1\"/>\n",
       "</g>\n",
       "</g>\n",
       "</svg>"
      ],
      "text/plain": [
       "<IPython.core.display.SVG object>"
      ]
     },
     "metadata": {},
     "output_type": "display_data"
    }
   ],
   "source": [
    "%%showast\n",
    "names = (\"Banner\", \"Rodgers\", \"Stark\", \"Romanov\")"
   ]
  }
 ],
 "metadata": {
  "interpreter": {
   "hash": "cab0f9c4efd6f5360cd1c76ccfd475773777c1c0ecb044c5c979ddbc68290b4b"
  },
  "kernelspec": {
   "display_name": "Python 3 (ipykernel)",
   "language": "python",
   "name": "python3"
  },
  "language_info": {
   "codemirror_mode": {
    "name": "ipython",
    "version": 3
   },
   "file_extension": ".py",
   "mimetype": "text/x-python",
   "name": "python",
   "nbconvert_exporter": "python",
   "pygments_lexer": "ipython3",
   "version": "3.10.4"
  }
 },
 "nbformat": 4,
 "nbformat_minor": 5
}
